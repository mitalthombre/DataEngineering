{
 "cells": [
  {
   "cell_type": "markdown",
   "metadata": {},
   "source": [
    "# Imports"
   ]
  },
  {
   "cell_type": "code",
   "execution_count": 1,
   "metadata": {},
   "outputs": [],
   "source": [
    "import pandas as pd\n",
    "import requests\n",
    "from datetime import datetime, timedelta"
   ]
  },
  {
   "cell_type": "markdown",
   "metadata": {},
   "source": [
    "# Connection Data"
   ]
  },
  {
   "cell_type": "code",
   "execution_count": 2,
   "metadata": {},
   "outputs": [],
   "source": [
    "schema=\"e_scooter\"   # name of the database you want to use here\n",
    "host=\"127.0.0.1\"        # to connect to your local server\n",
    "user=\"root\"\n",
    "password=\"YOUR_PASSWORD_HERE\" # your password!!!!\n",
    "port=3306\n",
    "con = f'mysql+pymysql://{user}:{password}@{host}:{port}/{schema}'"
   ]
  },
  {
   "cell_type": "markdown",
   "metadata": {},
   "source": [
    "# Cities"
   ]
  },
  {
   "cell_type": "markdown",
   "metadata": {},
   "source": [
    "Making a cities DataFrame from a dictionary we created"
   ]
  },
  {
   "cell_type": "code",
   "execution_count": 3,
   "metadata": {},
   "outputs": [],
   "source": [
    "cities_dict = {\n",
    "  'city': ['Berlin', 'Munich', 'Cologne', 'Leipzig'],\n",
    "  'city_ascii': ['Berlin', 'Munich', 'Cologne', 'Leipzig'],\n",
    "  'lat': [52.5167, 48.1375, 50.9422, 51.3333],\n",
    "  'lng': [13.3833, 11.575, 6.9578, 12.3833],\n",
    "  'country': ['Germany', 'Germany', 'Germany', 'Germany'],\n",
    "  'iso2': ['DE', 'DE', 'DE', 'DE'],\n",
    "  'iso3': ['DEU', 'DEU', 'DEU', 'DEU'],\n",
    "  'admin_name': ['Berlin', 'Bavaria', 'North Rhine-Westphalia', 'Saxony'],\n",
    "  'population': [3664088, 1488202, 1083498, 597215]\n",
    " }\n",
    "\n",
    "cities_df = pd.DataFrame(cities_dict)"
   ]
  },
  {
   "cell_type": "code",
   "execution_count": 4,
   "metadata": {},
   "outputs": [
    {
     "data": {
      "text/plain": [
       "4"
      ]
     },
     "execution_count": 4,
     "metadata": {},
     "output_type": "execute_result"
    }
   ],
   "source": [
    "cities_df.to_sql(\"cities\", if_exists=\"append\", con=con, index=False)"
   ]
  },
  {
   "cell_type": "markdown",
   "metadata": {},
   "source": [
    "# Weather"
   ]
  },
  {
   "cell_type": "code",
   "execution_count": 5,
   "metadata": {},
   "outputs": [],
   "source": [
    "city_list = [\"Berlin\", \"Munich\", \"Leipzig\", \"Cologne\"]"
   ]
  },
  {
   "cell_type": "code",
   "execution_count": 6,
   "metadata": {},
   "outputs": [],
   "source": [
    "def weather(c_list):\n",
    "\n",
    "  df_list = []\n",
    "\n",
    "  for city in c_list:\n",
    "\n",
    "    API_key = \"YOUR_API_KEY_HERE\"\n",
    "\n",
    "    url = f\"http://api.openweathermap.org/data/2.5/forecast?q={city}&appid={API_key}&units=metric\"\n",
    "\n",
    "    response = requests.get(url)\n",
    "\n",
    "    json = response.json()\n",
    "\n",
    "    for item in json[\"list\"]:\n",
    "      weather_dict = {\n",
    "        \"city_name\": [],\n",
    "        \"country\": [],\n",
    "        \"rain\": [],\n",
    "        \"temperature\": [],\n",
    "        \"time_for_forecast\": []\n",
    "    }\n",
    "      try:\n",
    "        weather_dict[\"rain\"].append(item[\"rain\"][\"3h\"])\n",
    "      except:\n",
    "        weather_dict[\"rain\"].append(\"0\")\n",
    "      weather_dict[\"city_name\"].append(city)\n",
    "      weather_dict[\"country\"].append(json[\"city\"][\"country\"])\n",
    "      weather_dict[\"temperature\"].append(item[\"main\"][\"temp\"])\n",
    "      weather_dict[\"time_for_forecast\"].append(item['dt_txt'])\n",
    "\n",
    "      weather_df = pd.DataFrame(weather_dict)\n",
    "\n",
    "      weather_df[\"time_for_forecast\"] = pd.to_datetime(weather_df[\"time_for_forecast\"])\n",
    "\n",
    "      weather_df.loc[weather_df[\"city_name\"] == \"Berlin\", \"city_name\"] = 1\n",
    "      weather_df.loc[weather_df[\"city_name\"] == \"Leipzig\", \"city_name\"] = 4\n",
    "      weather_df.loc[weather_df[\"city_name\"] == \"Cologne\", \"city_name\"] = 3\n",
    "      weather_df.loc[weather_df[\"city_name\"] == \"Munich\", \"city_name\"] = 2\n",
    "\n",
    "      weather_df.rename(columns={\"city_name\": \"cityid\"}, inplace=True)\n",
    "\n",
    "      df_list.append(weather_df)\n",
    "\n",
    "  return pd.concat(df_list)"
   ]
  },
  {
   "cell_type": "code",
   "execution_count": 7,
   "metadata": {},
   "outputs": [],
   "source": [
    "weather_df = weather(city_list)"
   ]
  },
  {
   "cell_type": "code",
   "execution_count": 8,
   "metadata": {},
   "outputs": [
    {
     "data": {
      "text/plain": [
       "160"
      ]
     },
     "execution_count": 8,
     "metadata": {},
     "output_type": "execute_result"
    }
   ],
   "source": [
    "weather_df.to_sql(\"weather\", if_exists=\"append\", con=con, index=False)"
   ]
  },
  {
   "cell_type": "markdown",
   "metadata": {},
   "source": [
    "# Airports"
   ]
  },
  {
   "cell_type": "code",
   "execution_count": 9,
   "metadata": {},
   "outputs": [],
   "source": [
    "airports_dict = {\n",
    "    \"cityid\": [1, 2, 3, 4],\n",
    "    \"icao\": [\"EDDB\", \"EDDM\", \"EDDK\", \"EDDP\"],\n",
    "}\n",
    "\n",
    "airports_df = pd.DataFrame(airports_dict)"
   ]
  },
  {
   "cell_type": "code",
   "execution_count": 10,
   "metadata": {},
   "outputs": [
    {
     "data": {
      "text/plain": [
       "4"
      ]
     },
     "execution_count": 10,
     "metadata": {},
     "output_type": "execute_result"
    }
   ],
   "source": [
    "airports_df.to_sql(\"airports\", if_exists=\"append\", con=con, index=False)"
   ]
  },
  {
   "cell_type": "markdown",
   "metadata": {},
   "source": [
    "# Flights"
   ]
  },
  {
   "cell_type": "code",
   "execution_count": 11,
   "metadata": {},
   "outputs": [],
   "source": [
    "icao_codes = [\"EDDB\", \"EDDM\", \"EDDP\", \"EDDK\"]"
   ]
  },
  {
   "cell_type": "code",
   "execution_count": 12,
   "metadata": {},
   "outputs": [],
   "source": [
    "def arrivals(codes):\n",
    "\n",
    "  arrivals_list = []\n",
    "\n",
    "  today = datetime.now().date()\n",
    "  tomorrow = today + timedelta(days=1)\n",
    "  \n",
    "  morning = {\"start_time\": \"00:00\", \"end_time\": \"12:00\"}\n",
    "  afternoon = {\"start_time\": \"12:00\", \"end_time\": \"23:59\"}\n",
    "  times = [morning, afternoon]\n",
    "\n",
    "  for code in codes:\n",
    "    for time in times:\n",
    "\n",
    "      url = f\"https://aerodatabox.p.rapidapi.com/flights/airports/icao/{code}/{tomorrow}T{time['start_time']}/{tomorrow}T{time['end_time']}\"\n",
    "\n",
    "      querystring = {\"withLeg\":\"true\",\"withCancelled\":\"true\",\"withCodeshared\":\"true\",\"withCargo\":\"true\",\"withPrivate\":\"true\",\"withLocation\":\"false\"}\n",
    "\n",
    "      headers = {\n",
    "        \"X-RapidAPI-Key\": \"YOUR_API_KEY_HERE\",\n",
    "        \"X-RapidAPI-Host\": \"aerodatabox.p.rapidapi.com\"\n",
    "      }\n",
    "\n",
    "      response = requests.request(\"GET\", url, headers=headers, params=querystring)\n",
    "      arrivals_df = pd.json_normalize(response.json()[\"arrivals\"]).copy()\n",
    "\n",
    "      arrivals_new_df = arrivals_df.loc[:, ['arrival.scheduledTimeLocal', 'number', \"status\", 'aircraft.model', 'airline.name', 'codeshareStatus']]\n",
    "\n",
    "      arrivals_new_df[\"arrival.scheduledTimeLocal\"] = pd.to_datetime(arrivals_new_df[\"arrival.scheduledTimeLocal\"])\n",
    "\n",
    "      #arrivals_new_df[\"arrival_icao\"] = code # alternative way to add the airport code\n",
    "\n",
    "      arrivals_new_df.insert(0, \"arrival_icao\", code)\n",
    "\n",
    "      arrivals_list.append(arrivals_new_df)\n",
    "\n",
    "  return pd.concat(arrivals_list)"
   ]
  },
  {
   "cell_type": "code",
   "execution_count": 13,
   "metadata": {},
   "outputs": [],
   "source": [
    "flights_df = arrivals(icao_codes)"
   ]
  },
  {
   "cell_type": "code",
   "execution_count": 14,
   "metadata": {},
   "outputs": [
    {
     "data": {
      "text/plain": [
       "617"
      ]
     },
     "execution_count": 14,
     "metadata": {},
     "output_type": "execute_result"
    }
   ],
   "source": [
    "flights_df.to_sql(\"flights\", if_exists=\"append\", con=con, index=False)"
   ]
  }
 ],
 "metadata": {
  "kernelspec": {
   "display_name": "Python 3.9.13 ('base')",
   "language": "python",
   "name": "python3"
  },
  "language_info": {
   "codemirror_mode": {
    "name": "ipython",
    "version": 3
   },
   "file_extension": ".py",
   "mimetype": "text/x-python",
   "name": "python",
   "nbconvert_exporter": "python",
   "pygments_lexer": "ipython3",
   "version": "3.9.13"
  },
  "orig_nbformat": 4,
  "vscode": {
   "interpreter": {
    "hash": "91c1d2470ab80b393afef1a9308e4146ea19685bf186cfe44fe3659b7d9e4fc0"
   }
  }
 },
 "nbformat": 4,
 "nbformat_minor": 2
}
